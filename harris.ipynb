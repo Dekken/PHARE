{
 "cells": [
  {
   "cell_type": "code",
   "execution_count": 1,
   "id": "7fd2eb00-274f-4d7e-a3d9-d03e3d7235d7",
   "metadata": {},
   "outputs": [],
   "source": [
    "import numpy as np\n",
    "np.set_printoptions(precision=32, linewidth=211)\n",
    "# overlap where = (np.array([21, 22, 23, 24]), np.array([5, 5, 5, 5]))\n",
    "def get_time(path, time, datahier = None):\n",
    "    time = \"{:.10f}\".format(time)\n",
    "    from pyphare.pharesee.hierarchy import hierarchy_from    \n",
    "    datahier = hierarchy_from(h5_filename=path+\"/EM_E.h5\", time=time, hier=datahier)\n",
    "    datahier = hierarchy_from(h5_filename=path+\"/EM_B.h5\", time=time, hier=datahier)\n",
    "    return datahier\n",
    "\n",
    "datahierF = get_time(\"overwrite/interior/false\", 0)\n",
    "datahierT = get_time(\"overwrite/interior/true\", 0)\n",
    "peeches   = [\"p0#1\", \"p0#3\", \"p1#4\", \"p1#6\"]\n",
    "def getEs(datahier, qty=\"Ex\"):\n",
    "    return {p.id[1:] : p.patch_datas[qty] for p in datahier.level(0) if p.id in peeches}                        "
   ]
  },
  {
   "cell_type": "code",
   "execution_count": 2,
   "id": "f10b2a35-452c-47a4-a318-826eec17bbe1",
   "metadata": {},
   "outputs": [
    {
     "name": "stdout",
     "output_type": "stream",
     "text": [
      "[-1.1164660459620126e-19 -1.4842909108170073e-18 -1.7873045878013344e-17 -2.0128023571659505e-16]\n",
      " \n",
      "    0#1 [-1.1164660459620126e-19 -1.4842909108170073e-18 -1.7873045878013344e-17 -2.0128023571659505e-16]\n",
      "    0#3 [-1.1164660459620126e-19 -1.4842909108170073e-18 -1.7873045878013344e-17 -2.0128023571659505e-16]\n",
      "    1#4 [-1.1164660459620136e-19 -1.4842909108170079e-18 -1.7873045878013332e-17 -2.0128023571659496e-16]\n",
      "    1#6 [-1.1164660459620126e-19 -1.4842909108170073e-18 -1.7873045878013344e-17 -2.0128023571659505e-16]    \n",
      " \n",
      "    0#1 [-1.1164660459620126e-19 -1.4842909108170073e-18 -1.7873045878013344e-17 -2.0128023571659505e-16]\n",
      "    0#3 [-1.1164660459620136e-19 -1.4842909108170079e-18 -1.7873045878013332e-17 -2.0128023571659496e-16]\n",
      "    1#4 [-1.1164660459620136e-19 -1.4842909108170079e-18 -1.7873045878013332e-17 -2.0128023571659496e-16]\n",
      "    1#6 [-1.1164660459620126e-19 -1.4842909108170073e-18 -1.7873045878013344e-17 -2.0128023571659505e-16]    \n"
     ]
    }
   ],
   "source": [
    "for p in datahierT.level(0):\n",
    "    if p.id == peeches[0]:\n",
    "        print(p.patch_datas[\"Ex\"].dataset[:][-5:-1, -6])\n",
    "        \n",
    "TE = getEs(datahierT)\n",
    "FE = getEs(datahierF)\n",
    "\n",
    "def pr(E):\n",
    "    xG = E[\"0#3\"].ghosts_nbr[0]\n",
    "    print(f\"\"\" \n",
    "    0#1 {E[\"0#1\"].dataset[-5:-1, -6]}\n",
    "    0#3 {E[\"0#3\"].dataset[xG:xG*2-1, -6]}\n",
    "    1#4 {E[\"1#4\"].dataset[-5:-1,  5]}\n",
    "    1#6 {E[\"1#6\"].dataset[xG:xG*2-1,  5]}    \"\"\")\n",
    "    \n",
    "pr(TE)    \n",
    "pr(FE)    "
   ]
  }
 ],
 "metadata": {
  "kernelspec": {
   "display_name": "Python 3",
   "language": "python",
   "name": "python3"
  },
  "language_info": {
   "codemirror_mode": {
    "name": "ipython",
    "version": 3
   },
   "file_extension": ".py",
   "mimetype": "text/x-python",
   "name": "python",
   "nbconvert_exporter": "python",
   "pygments_lexer": "ipython3",
   "version": "3.9.4"
  }
 },
 "nbformat": 4,
 "nbformat_minor": 5
}
